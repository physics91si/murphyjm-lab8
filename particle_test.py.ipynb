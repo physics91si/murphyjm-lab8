{
 "cells": [
  {
   "cell_type": "code",
   "execution_count": 31,
   "metadata": {
    "collapsed": false
   },
   "outputs": [
    {
     "name": "stdout",
     "output_type": "stream",
     "text": [
      "(-0.5, -0.5)\n"
     ]
    }
   ],
   "source": [
    "import importlib\n",
    "import particle\n",
    "import molecule\n",
    "importlib.reload(particle)\n",
    "importlib.reload(molecule)\n",
    "\n",
    "p1 = particle.Particle((0,0), 1)\n",
    "p2 = particle.Particle((1,1), 2)\n",
    "\n",
    "m1 = molecule.Molecule(p1.pos, p2.pos, p1.m, p2.m, 0.5, 1)\n",
    "\n",
    "print(m1.get_force())"
   ]
  },
  {
   "cell_type": "code",
   "execution_count": null,
   "metadata": {
    "collapsed": true
   },
   "outputs": [],
   "source": []
  }
 ],
 "metadata": {
  "kernelspec": {
   "display_name": "Python 3",
   "language": "python",
   "name": "python3"
  },
  "language_info": {
   "codemirror_mode": {
    "name": "ipython",
    "version": 3
   },
   "file_extension": ".py",
   "mimetype": "text/x-python",
   "name": "python",
   "nbconvert_exporter": "python",
   "pygments_lexer": "ipython3",
   "version": "3.5.1"
  }
 },
 "nbformat": 4,
 "nbformat_minor": 0
}
